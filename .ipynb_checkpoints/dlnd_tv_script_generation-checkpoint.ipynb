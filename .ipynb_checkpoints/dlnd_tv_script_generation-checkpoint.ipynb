{
 "cells": [
  {
   "cell_type": "markdown",
   "metadata": {
    "deletable": true,
    "editable": true
   },
   "source": [
    "# TV Script Generation\n",
    "In this project, you'll generate your own [Simpsons](https://en.wikipedia.org/wiki/The_Simpsons) TV scripts using RNNs.  You'll be using part of the [Simpsons dataset](https://www.kaggle.com/wcukierski/the-simpsons-by-the-data) of scripts from 27 seasons.  The Neural Network you'll build will generate a new TV script for a scene at [Moe's Tavern](https://simpsonswiki.com/wiki/Moe's_Tavern).\n",
    "## Get the Data\n",
    "The data is already provided for you.  You'll be using a subset of the original dataset.  It consists of only the scenes in Moe's Tavern.  This doesn't include other versions of the tavern, like \"Moe's Cavern\", \"Flaming Moe's\", \"Uncle Moe's Family Feed-Bag\", etc.."
   ]
  },
  {
   "cell_type": "code",
   "execution_count": 6,
   "metadata": {
    "collapsed": false,
    "deletable": true,
    "editable": true
   },
   "outputs": [],
   "source": [
    "\"\"\"\n",
    "DON'T MODIFY ANYTHING IN THIS CELL\n",
    "\"\"\"\n",
    "import helper\n",
    "\n",
    "data_dir = './data/simpsons/moes_tavern_lines.txt'\n",
    "text = helper.load_data(data_dir)\n",
    "# Ignore notice, since we don't use it for analysing the data\n",
    "text = text[81:]"
   ]
  },
  {
   "cell_type": "markdown",
   "metadata": {
    "deletable": true,
    "editable": true
   },
   "source": [
    "## Explore the Data\n",
    "Play around with `view_sentence_range` to view different parts of the data."
   ]
  },
  {
   "cell_type": "code",
   "execution_count": 4,
   "metadata": {
    "collapsed": false,
    "deletable": true,
    "editable": true
   },
   "outputs": [
    {
     "name": "stdout",
     "output_type": "stream",
     "text": [
      "Dataset Stats\n",
      "Roughly the number of unique words: 11492\n",
      "Number of scenes: 262\n",
      "Average number of sentences in each scene: 15.248091603053435\n",
      "Number of lines: 4257\n",
      "Average number of words in each line: 11.50434578341555\n",
      "\n",
      "The sentences 10 to 30:\n",
      "Moe_Szyslak: Ah, isn't that nice. Now, there is a politician who cares.\n",
      "Barney_Gumble: If I ever vote, it'll be for him. (BELCH)\n",
      "\n",
      "\n",
      "Barney_Gumble: Hey Homer, how's your neighbor's store doing?\n",
      "Homer_Simpson: Lousy. He just sits there all day. He'd have a great job if he didn't own the place. (CHUCKLES)\n",
      "Moe_Szyslak: (STRUGGLING WITH CORKSCREW) Crummy right-handed corkscrews! What does he sell?\n",
      "Homer_Simpson: Uh, well actually, Moe...\n",
      "HOMER_(CONT'D: I dunno.\n",
      "\n",
      "\n",
      "Moe_Szyslak: Looks like this is the end.\n",
      "Barney_Gumble: That's all right. I couldn't have led a richer life.\n",
      "Barney_Gumble: So the next time somebody tells you county folk are good, honest people, you can spit in their faces for me!\n",
      "Lisa_Simpson: I will, Mr. Gumbel. But if you'll excuse me, I'm profiling my dad for the school paper. I thought it would be neat to follow him around for a day to see what makes him tick.\n",
      "Barney_Gumble: Oh, that's sweet. I used to follow my dad to a lot of bars too. (BELCH)\n",
      "Moe_Szyslak: Here you go. One beer, one chocolate milk.\n",
      "Lisa_Simpson: Uh, excuse me, I have the chocolate milk.\n",
      "Moe_Szyslak: Oh.\n",
      "Moe_Szyslak: What's the matter, Homer? The depressin' effects of alcohol usually don't kick in 'til closing time.\n"
     ]
    }
   ],
   "source": [
    "view_sentence_range = (10, 30)\n",
    "\n",
    "\"\"\"\n",
    "DON'T MODIFY ANYTHING IN THIS CELL\n",
    "\"\"\"\n",
    "import numpy as np\n",
    "\n",
    "print('Dataset Stats')\n",
    "print('Roughly the number of unique words: {}'.format(len({word: None for word in text.split()})))\n",
    "scenes = text.split('\\n\\n')\n",
    "print('Number of scenes: {}'.format(len(scenes)))\n",
    "sentence_count_scene = [scene.count('\\n') for scene in scenes]\n",
    "print('Average number of sentences in each scene: {}'.format(np.average(sentence_count_scene)))\n",
    "\n",
    "sentences = [sentence for scene in scenes for sentence in scene.split('\\n')]\n",
    "print('Number of lines: {}'.format(len(sentences)))\n",
    "word_count_sentence = [len(sentence.split()) for sentence in sentences]\n",
    "print('Average number of words in each line: {}'.format(np.average(word_count_sentence)))\n",
    "\n",
    "print()\n",
    "print('The sentences {} to {}:'.format(*view_sentence_range))\n",
    "print('\\n'.join(text.split('\\n')[view_sentence_range[0]:view_sentence_range[1]]))"
   ]
  },
  {
   "cell_type": "markdown",
   "metadata": {
    "deletable": true,
    "editable": true
   },
   "source": [
    "## Implement Preprocessing Functions\n",
    "The first thing to do to any dataset is preprocessing.  Implement the following preprocessing functions below:\n",
    "- Lookup Table\n",
    "- Tokenize Punctuation\n",
    "\n",
    "### Lookup Table\n",
    "To create a word embedding, you first need to transform the words to ids.  In this function, create two dictionaries:\n",
    "- Dictionary to go from the words to an id, we'll call `vocab_to_int`\n",
    "- Dictionary to go from the id to word, we'll call `int_to_vocab`\n",
    "\n",
    "Return these dictionaries in the following tuple `(vocab_to_int, int_to_vocab)`"
   ]
  },
  {
   "cell_type": "code",
   "execution_count": 2,
   "metadata": {
    "collapsed": false,
    "deletable": true,
    "editable": true
   },
   "outputs": [
    {
     "name": "stdout",
     "output_type": "stream",
     "text": [
      "Tests Passed\n"
     ]
    }
   ],
   "source": [
    "import numpy as np\n",
    "import problem_unittests as tests\n",
    "from collections import Counter\n",
    "\n",
    "def create_lookup_tables(text):\n",
    "    \"\"\"\n",
    "    Create lookup tables for vocabulary\n",
    "    :param text: The text of tv scripts split into words\n",
    "    :return: A tuple of dicts (vocab_to_int, int_to_vocab)\n",
    "    \"\"\"\n",
    "\n",
    "    words = Counter(text)\n",
    "    sorted_vocab = sorted(words, key=words.get, reverse=True)\n",
    "    int_to_vocab = {ii: word for ii, word in enumerate(sorted_vocab)}\n",
    "    vocab_to_int = {word: ii for ii, word in int_to_vocab.items()}\n",
    "\n",
    "    return vocab_to_int, int_to_vocab\n",
    "\n",
    "\n",
    "\"\"\"\n",
    "DON'T MODIFY ANYTHING IN THIS CELL THAT IS BELOW THIS LINE\n",
    "\"\"\"\n",
    "tests.test_create_lookup_tables(create_lookup_tables)"
   ]
  },
  {
   "cell_type": "markdown",
   "metadata": {
    "deletable": true,
    "editable": true
   },
   "source": [
    "### Tokenize Punctuation\n",
    "We'll be splitting the script into a word array using spaces as delimiters.  However, punctuations like periods and exclamation marks make it hard for the neural network to distinguish between the word \"bye\" and \"bye!\".\n",
    "\n",
    "Implement the function `token_lookup` to return a dict that will be used to tokenize symbols like \"!\" into \"||Exclamation_Mark||\".  Create a dictionary for the following symbols where the symbol is the key and value is the token:\n",
    "- Period ( . )\n",
    "- Comma ( , )\n",
    "- Quotation Mark ( \" )\n",
    "- Semicolon ( ; )\n",
    "- Exclamation mark ( ! )\n",
    "- Question mark ( ? )\n",
    "- Left Parentheses ( ( )\n",
    "- Right Parentheses ( ) )\n",
    "- Dash ( -- )\n",
    "- Return ( \\n )\n",
    "\n",
    "This dictionary will be used to token the symbols and add the delimiter (space) around it.  This separates the symbols as it's own word, making it easier for the neural network to predict on the next word. Make sure you don't use a token that could be confused as a word. Instead of using the token \"dash\", try using something like \"||dash||\"."
   ]
  },
  {
   "cell_type": "code",
   "execution_count": 3,
   "metadata": {
    "collapsed": false,
    "deletable": true,
    "editable": true
   },
   "outputs": [
    {
     "name": "stdout",
     "output_type": "stream",
     "text": [
      "Tests Passed\n"
     ]
    }
   ],
   "source": [
    "def token_lookup():\n",
    "    \"\"\"\n",
    "    Generate a dict to turn punctuation into a token.\n",
    "    :return: Tokenize dictionary where the key is the punctuation and the value is the token\n",
    "    \"\"\"\n",
    "    punctuation = dict([('.', '<PERIOD>'),\n",
    "                        (',', '<COMMA>'),\n",
    "                        ('\"', '<QUOTATION_MARK>'),\n",
    "                        (';', '<SEMICOLON>'),\n",
    "                        ('!', '<EXCLAMATION_MARK>'),\n",
    "                        ('?', '<QUESTION_MARK>'),\n",
    "                        ('(', '<LEFT_PARENTHESES>'),\n",
    "                        (')', '<RIGHT_PARENTHESES>'),\n",
    "                        ('--', '<DASH>'),\n",
    "                        ('\\n', '<RETURN>')])\n",
    "    \n",
    "    return punctuation\n",
    "\n",
    "\"\"\"\n",
    "DON'T MODIFY ANYTHING IN THIS CELL THAT IS BELOW THIS LINE\n",
    "\"\"\"\n",
    "tests.test_tokenize(token_lookup)"
   ]
  },
  {
   "cell_type": "markdown",
   "metadata": {
    "deletable": true,
    "editable": true
   },
   "source": [
    "## Preprocess all the data and save it\n",
    "Running the code cell below will preprocess all the data and save it to file."
   ]
  },
  {
   "cell_type": "code",
   "execution_count": 4,
   "metadata": {
    "collapsed": false,
    "deletable": true,
    "editable": true
   },
   "outputs": [],
   "source": [
    "\"\"\"\n",
    "DON'T MODIFY ANYTHING IN THIS CELL\n",
    "\"\"\"\n",
    "# Preprocess Training, Validation, and Testing Data\n",
    "helper.preprocess_and_save_data(data_dir, token_lookup, create_lookup_tables)"
   ]
  },
  {
   "cell_type": "markdown",
   "metadata": {
    "deletable": true,
    "editable": true
   },
   "source": [
    "# Check Point\n",
    "This is your first checkpoint. If you ever decide to come back to this notebook or have to restart the notebook, you can start from here. The preprocessed data has been saved to disk."
   ]
  },
  {
   "cell_type": "code",
   "execution_count": 5,
   "metadata": {
    "collapsed": false,
    "deletable": true,
    "editable": true
   },
   "outputs": [],
   "source": [
    "\"\"\"\n",
    "DON'T MODIFY ANYTHING IN THIS CELL\n",
    "\"\"\"\n",
    "import helper\n",
    "import numpy as np\n",
    "import problem_unittests as tests\n",
    "\n",
    "int_text, vocab_to_int, int_to_vocab, token_dict = helper.load_preprocess()"
   ]
  },
  {
   "cell_type": "markdown",
   "metadata": {
    "deletable": true,
    "editable": true
   },
   "source": [
    "## Build the Neural Network\n",
    "You'll build the components necessary to build a RNN by implementing the following functions below:\n",
    "- get_inputs\n",
    "- get_init_cell\n",
    "- get_embed\n",
    "- build_rnn\n",
    "- build_nn\n",
    "- get_batches\n",
    "\n",
    "### Check the Version of TensorFlow and Access to GPU"
   ]
  },
  {
   "cell_type": "code",
   "execution_count": 6,
   "metadata": {
    "collapsed": false,
    "deletable": true,
    "editable": true
   },
   "outputs": [
    {
     "name": "stdout",
     "output_type": "stream",
     "text": [
      "TensorFlow Version: 1.0.0\n",
      "Default GPU Device: /gpu:0\n"
     ]
    }
   ],
   "source": [
    "\"\"\"\n",
    "DON'T MODIFY ANYTHING IN THIS CELL\n",
    "\"\"\"\n",
    "from distutils.version import LooseVersion\n",
    "import warnings\n",
    "import tensorflow as tf\n",
    "\n",
    "# Check TensorFlow Version\n",
    "assert LooseVersion(tf.__version__) >= LooseVersion('1.0'), 'Please use TensorFlow version 1.0 or newer'\n",
    "print('TensorFlow Version: {}'.format(tf.__version__))\n",
    "\n",
    "# Check for a GPU\n",
    "if not tf.test.gpu_device_name():\n",
    "    warnings.warn('No GPU found. Please use a GPU to train your neural network.')\n",
    "else:\n",
    "    print('Default GPU Device: {}'.format(tf.test.gpu_device_name()))"
   ]
  },
  {
   "cell_type": "markdown",
   "metadata": {
    "deletable": true,
    "editable": true
   },
   "source": [
    "### Input\n",
    "Implement the `get_inputs()` function to create TF Placeholders for the Neural Network.  It should create the following placeholders:\n",
    "- Input text placeholder named \"input\" using the [TF Placeholder](https://www.tensorflow.org/api_docs/python/tf/placeholder) `name` parameter.\n",
    "- Targets placeholder\n",
    "- Learning Rate placeholder\n",
    "\n",
    "Return the placeholders in the following the tuple `(Input, Targets, LearingRate)`"
   ]
  },
  {
   "cell_type": "code",
   "execution_count": 7,
   "metadata": {
    "collapsed": false,
    "deletable": true,
    "editable": true
   },
   "outputs": [
    {
     "name": "stdout",
     "output_type": "stream",
     "text": [
      "Tests Passed\n"
     ]
    }
   ],
   "source": [
    "def get_inputs():\n",
    "    \"\"\"\n",
    "    Create TF Placeholders for input, targets, and learning rate.\n",
    "    :return: Tuple (input, targets, learning rate)\n",
    "    \"\"\"\n",
    "    inputs_  = tf.placeholder(tf.int32, [None,None], name = 'input')\n",
    "    targets_ = tf.placeholder(tf.int32, [None,None], name = 'targets')\n",
    "    learning_rate = tf.placeholder(tf.float32, name = 'learning_rate')\n",
    "    return inputs_, targets_, learning_rate\n",
    "\n",
    "\n",
    "\"\"\"\n",
    "DON'T MODIFY ANYTHING IN THIS CELL THAT IS BELOW THIS LINE\n",
    "\"\"\"\n",
    "tests.test_get_inputs(get_inputs)"
   ]
  },
  {
   "cell_type": "markdown",
   "metadata": {
    "deletable": true,
    "editable": true
   },
   "source": [
    "### Build RNN Cell and Initialize\n",
    "Stack one or more [`BasicLSTMCells`](https://www.tensorflow.org/api_docs/python/tf/contrib/rnn/BasicLSTMCell) in a [`MultiRNNCell`](https://www.tensorflow.org/api_docs/python/tf/contrib/rnn/MultiRNNCell).\n",
    "- The Rnn size should be set using `rnn_size`\n",
    "- Initalize Cell State using the MultiRNNCell's [`zero_state()`](https://www.tensorflow.org/api_docs/python/tf/contrib/rnn/MultiRNNCell#zero_state) function\n",
    "    - Apply the name \"initial_state\" to the initial state using [`tf.identity()`](https://www.tensorflow.org/api_docs/python/tf/identity)\n",
    "\n",
    "Return the cell and initial state in the following tuple `(Cell, InitialState)`"
   ]
  },
  {
   "cell_type": "code",
   "execution_count": 8,
   "metadata": {
    "collapsed": false,
    "deletable": true,
    "editable": true
   },
   "outputs": [
    {
     "name": "stdout",
     "output_type": "stream",
     "text": [
      "Tests Passed\n"
     ]
    }
   ],
   "source": [
    "def get_init_cell(batch_size, rnn_size):\n",
    "    \"\"\"\n",
    "    Create an RNN Cell and initialize it.\n",
    "    :param batch_size: Size of batches\n",
    "    :param rnn_size: Size of RNNs\n",
    "    :return: Tuple (cell, initialize state)\n",
    "    \"\"\"\n",
    "    lstm = tf.contrib.rnn.BasicLSTMCell(rnn_size)\n",
    "\n",
    "    # using 1 layer only\n",
    "    cell = tf.contrib.rnn.MultiRNNCell([lstm] * 1)\n",
    "\n",
    "    initial_state = cell.zero_state(batch_size, tf.float32)\n",
    "    initial_state = tf.identity(initial_state, name='initial_state')\n",
    "    \n",
    "    return cell, initial_state\n",
    "\n",
    "\n",
    "\"\"\"\n",
    "DON'T MODIFY ANYTHING IN THIS CELL THAT IS BELOW THIS LINE\n",
    "\"\"\"\n",
    "tests.test_get_init_cell(get_init_cell)"
   ]
  },
  {
   "cell_type": "markdown",
   "metadata": {
    "deletable": true,
    "editable": true
   },
   "source": [
    "### Word Embedding\n",
    "Apply embedding to `input_data` using TensorFlow.  Return the embedded sequence."
   ]
  },
  {
   "cell_type": "code",
   "execution_count": 9,
   "metadata": {
    "collapsed": false,
    "deletable": true,
    "editable": true
   },
   "outputs": [
    {
     "name": "stdout",
     "output_type": "stream",
     "text": [
      "Tests Passed\n"
     ]
    }
   ],
   "source": [
    "def get_embed(input_data, vocab_size, embed_dim):\n",
    "    \"\"\"\n",
    "    Create embedding for <input_data>.\n",
    "    :param input_data: TF placeholder for text input.\n",
    "    :param vocab_size: Number of words in vocabulary.\n",
    "    :param embed_dim: Number of embedding dimensions\n",
    "    :return: Embedded input.\n",
    "    \"\"\"\n",
    "    embedding = tf.Variable(tf.random_uniform((vocab_size, embed_dim), -1, 1))\n",
    "    embed = tf.nn.embedding_lookup(embedding, input_data)\n",
    "    return embed\n",
    "\n",
    "\n",
    "\"\"\"\n",
    "DON'T MODIFY ANYTHING IN THIS CELL THAT IS BELOW THIS LINE\n",
    "\"\"\"\n",
    "tests.test_get_embed(get_embed)"
   ]
  },
  {
   "cell_type": "markdown",
   "metadata": {
    "deletable": true,
    "editable": true
   },
   "source": [
    "### Build RNN\n",
    "You created a RNN Cell in the `get_init_cell()` function.  Time to use the cell to create a RNN.\n",
    "- Build the RNN using the [`tf.nn.dynamic_rnn()`](https://www.tensorflow.org/api_docs/python/tf/nn/dynamic_rnn)\n",
    " - Apply the name \"final_state\" to the final state using [`tf.identity()`](https://www.tensorflow.org/api_docs/python/tf/identity)\n",
    "\n",
    "Return the outputs and final_state state in the following tuple `(Outputs, FinalState)` "
   ]
  },
  {
   "cell_type": "code",
   "execution_count": 10,
   "metadata": {
    "collapsed": false,
    "deletable": true,
    "editable": true
   },
   "outputs": [
    {
     "name": "stdout",
     "output_type": "stream",
     "text": [
      "Tests Passed\n"
     ]
    }
   ],
   "source": [
    "def build_rnn(cell, inputs):\n",
    "    \"\"\"\n",
    "    Create a RNN using a RNN Cell\n",
    "    :param cell: RNN Cell\n",
    "    :param inputs: Input text data\n",
    "    :return: Tuple (Outputs, Final State)\n",
    "    \"\"\"\n",
    "    \n",
    "    # no initial_state available, specifying dtype as per documentation in dynamic_rnn\n",
    "    # dtype: (optional) The data type for the initial state and expected output. \n",
    "    # Required if initial_state is not provided or RNN state has a heterogeneous dtype.\n",
    "    outputs, final_state = tf.nn.dynamic_rnn(cell, inputs, dtype=tf.float32)\n",
    "    \n",
    "    final_state = tf.identity(final_state, name='final_state')\n",
    "\n",
    "    return outputs, final_state\n",
    "\n",
    "\n",
    "\"\"\"\n",
    "DON'T MODIFY ANYTHING IN THIS CELL THAT IS BELOW THIS LINE\n",
    "\"\"\"\n",
    "tests.test_build_rnn(build_rnn)"
   ]
  },
  {
   "cell_type": "markdown",
   "metadata": {
    "deletable": true,
    "editable": true
   },
   "source": [
    "### Build the Neural Network\n",
    "Apply the functions you implemented above to:\n",
    "- Apply embedding to `input_data` using your `get_embed(input_data, vocab_size, embed_dim)` function.\n",
    "- Build RNN using `cell` and your `build_rnn(cell, inputs)` function.\n",
    "- Apply a fully connected layer with a linear activation and `vocab_size` as the number of outputs.\n",
    "\n",
    "Return the logits and final state in the following tuple (Logits, FinalState) "
   ]
  },
  {
   "cell_type": "code",
   "execution_count": 11,
   "metadata": {
    "collapsed": false,
    "deletable": true,
    "editable": true
   },
   "outputs": [
    {
     "name": "stdout",
     "output_type": "stream",
     "text": [
      "Tests Passed\n"
     ]
    }
   ],
   "source": [
    "def build_nn(cell, rnn_size, input_data, vocab_size):\n",
    "    \"\"\"\n",
    "    Build part of the neural network\n",
    "    :param cell: RNN cell\n",
    "    :param rnn_size: Size of rnns\n",
    "    :param input_data: Input data\n",
    "    :param vocab_size: Vocabulary size\n",
    "    :return: Tuple (Logits, FinalState)\n",
    "    \"\"\"\n",
    "    # use embed_dim = 200\n",
    "    inputs = get_embed(input_data, vocab_size, 200)\n",
    "    logits, final_state = build_rnn(cell, inputs)\n",
    "    \n",
    "    # kept activation_fn=None to achieve a linear activation\n",
    "    logits = tf.contrib.layers.fully_connected(logits, \n",
    "                                               vocab_size, \n",
    "                                               activation_fn=None)\n",
    "\n",
    "    return logits, final_state\n",
    "\n",
    "\n",
    "\"\"\"\n",
    "DON'T MODIFY ANYTHING IN THIS CELL THAT IS BELOW THIS LINE\n",
    "\"\"\"\n",
    "tests.test_build_nn(build_nn)"
   ]
  },
  {
   "cell_type": "markdown",
   "metadata": {
    "deletable": true,
    "editable": true
   },
   "source": [
    "### Batches\n",
    "Implement `get_batches` to create batches of input and targets using `int_text`.  The batches should be a Numpy array with the shape `(number of batches, 2, batch size, sequence length)`. Each batch contains two elements:\n",
    "- The first element is a single batch of **input** with the shape `[batch size, sequence length]`\n",
    "- The second element is a single batch of **targets** with the shape `[batch size, sequence length]`\n",
    "\n",
    "If you can't fill the last batch with enough data, drop the last batch.\n",
    "\n",
    "For exmple, `get_batches([1, 2, 3, 4, 5, 6, 7, 8, 9, 10, 11, 12, 13, 14, 15], 2, 3)` would return a Numpy array of the following:\n",
    "```\n",
    "[\n",
    "  # First Batch\n",
    "  [\n",
    "    # Batch of Input\n",
    "    [[ 1  2  3], [ 7  8  9]],\n",
    "    # Batch of targets\n",
    "    [[ 2  3  4], [ 8  9 10]]\n",
    "  ],\n",
    " \n",
    "  # Second Batch\n",
    "  [\n",
    "    # Batch of Input\n",
    "    [[ 4  5  6], [10 11 12]],\n",
    "    # Batch of targets\n",
    "    [[ 5  6  7], [11 12 13]]\n",
    "  ]\n",
    "]\n",
    "```"
   ]
  },
  {
   "cell_type": "code",
   "execution_count": 12,
   "metadata": {
    "collapsed": false,
    "deletable": true,
    "editable": true
   },
   "outputs": [
    {
     "name": "stdout",
     "output_type": "stream",
     "text": [
      "Tests Passed\n"
     ]
    }
   ],
   "source": [
    "def get_batches(int_text, batch_size, seq_length):\n",
    "    \"\"\"\n",
    "    Return batches of input and target\n",
    "    :param int_text: Text with the words replaced by their ids\n",
    "    :param batch_size: The size of batch\n",
    "    :param seq_length: The length of sequence\n",
    "    :return: Batches as a Numpy array\n",
    "    \"\"\"\n",
    "    \n",
    "    n_batches = int(len(int_text) / (batch_size * seq_length))\n",
    "\n",
    "    # Drop the last few characters to make only full batches\n",
    "    x_data = np.array(int_text[: n_batches * batch_size * seq_length])\n",
    "    y_data = np.array(int_text[1: n_batches * batch_size * seq_length + 1])\n",
    "\n",
    "    x_batches = np.split(x_data.reshape(batch_size, -1), n_batches, 1)\n",
    "    y_batches = np.split(y_data.reshape(batch_size, -1), n_batches, 1)\n",
    "\n",
    "    return np.array(list(zip(x_batches, y_batches)))\n",
    "\n",
    "\"\"\"\n",
    "DON'T MODIFY ANYTHING IN THIS CELL THAT IS BELOW THIS LINE\n",
    "\"\"\"\n",
    "tests.test_get_batches(get_batches)"
   ]
  },
  {
   "cell_type": "markdown",
   "metadata": {
    "deletable": true,
    "editable": true
   },
   "source": [
    "## Neural Network Training\n",
    "### Hyperparameters\n",
    "Tune the following parameters:\n",
    "\n",
    "- Set `num_epochs` to the number of epochs.\n",
    "- Set `batch_size` to the batch size.\n",
    "- Set `rnn_size` to the size of the RNNs.\n",
    "- Set `seq_length` to the length of sequence.\n",
    "- Set `learning_rate` to the learning rate.\n",
    "- Set `show_every_n_batches` to the number of batches the neural network should print progress."
   ]
  },
  {
   "cell_type": "code",
   "execution_count": 19,
   "metadata": {
    "collapsed": true,
    "deletable": true,
    "editable": true
   },
   "outputs": [],
   "source": [
    "# Number of Epochs\n",
    "num_epochs = 100\n",
    "# Batch Size\n",
    "batch_size = 100\n",
    "# RNN Size\n",
    "rnn_size = 128\n",
    "# Sequence Length\n",
    "seq_length = 150\n",
    "# Learning Rate\n",
    "learning_rate = 0.01\n",
    "# Show stats for every n number of batches\n",
    "show_every_n_batches = 10\n",
    "\n",
    "\"\"\"\n",
    "DON'T MODIFY ANYTHING IN THIS CELL THAT IS BELOW THIS LINE\n",
    "\"\"\"\n",
    "save_dir = './save'"
   ]
  },
  {
   "cell_type": "markdown",
   "metadata": {
    "deletable": true,
    "editable": true
   },
   "source": [
    "### Build the Graph\n",
    "Build the graph using the neural network you implemented."
   ]
  },
  {
   "cell_type": "code",
   "execution_count": 20,
   "metadata": {
    "collapsed": false,
    "deletable": true,
    "editable": true
   },
   "outputs": [],
   "source": [
    "\"\"\"\n",
    "DON'T MODIFY ANYTHING IN THIS CELL\n",
    "\"\"\"\n",
    "from tensorflow.contrib import seq2seq\n",
    "\n",
    "train_graph = tf.Graph()\n",
    "with train_graph.as_default():\n",
    "    vocab_size = len(int_to_vocab)\n",
    "    input_text, targets, lr = get_inputs()\n",
    "    input_data_shape = tf.shape(input_text)\n",
    "    cell, initial_state = get_init_cell(input_data_shape[0], rnn_size)\n",
    "    logits, final_state = build_nn(cell, rnn_size, input_text, vocab_size)\n",
    "\n",
    "    # Probabilities for generating words\n",
    "    probs = tf.nn.softmax(logits, name='probs')\n",
    "\n",
    "    # Loss function\n",
    "    cost = seq2seq.sequence_loss(\n",
    "        logits,\n",
    "        targets,\n",
    "        tf.ones([input_data_shape[0], input_data_shape[1]]))\n",
    "\n",
    "    # Optimizer\n",
    "    optimizer = tf.train.AdamOptimizer(lr)\n",
    "\n",
    "    # Gradient Clipping\n",
    "    gradients = optimizer.compute_gradients(cost)\n",
    "    capped_gradients = [(tf.clip_by_value(grad, -1., 1.), var) for grad, var in gradients]\n",
    "    train_op = optimizer.apply_gradients(capped_gradients)"
   ]
  },
  {
   "cell_type": "markdown",
   "metadata": {
    "deletable": true,
    "editable": true
   },
   "source": [
    "## Train\n",
    "Train the neural network on the preprocessed data.  If you have a hard time getting a good loss, check the [forms](https://discussions.udacity.com/) to see if anyone is having the same problem."
   ]
  },
  {
   "cell_type": "code",
   "execution_count": 21,
   "metadata": {
    "collapsed": false,
    "deletable": true,
    "editable": true
   },
   "outputs": [
    {
     "name": "stdout",
     "output_type": "stream",
     "text": [
      "Epoch   0 Batch    0/46   train_loss = 8.820\n",
      "Epoch   0 Batch   10/46   train_loss = 6.616\n",
      "Epoch   0 Batch   20/46   train_loss = 5.986\n",
      "Epoch   0 Batch   30/46   train_loss = 5.796\n",
      "Epoch   0 Batch   40/46   train_loss = 5.644\n",
      "Epoch   1 Batch    4/46   train_loss = 5.290\n",
      "Epoch   1 Batch   14/46   train_loss = 5.244\n",
      "Epoch   1 Batch   24/46   train_loss = 5.148\n",
      "Epoch   1 Batch   34/46   train_loss = 4.834\n",
      "Epoch   1 Batch   44/46   train_loss = 4.918\n",
      "Epoch   2 Batch    8/46   train_loss = 4.678\n",
      "Epoch   2 Batch   18/46   train_loss = 4.531\n",
      "Epoch   2 Batch   28/46   train_loss = 4.415\n",
      "Epoch   2 Batch   38/46   train_loss = 4.535\n",
      "Epoch   3 Batch    2/46   train_loss = 4.273\n",
      "Epoch   3 Batch   12/46   train_loss = 4.283\n",
      "Epoch   3 Batch   22/46   train_loss = 4.355\n",
      "Epoch   3 Batch   32/46   train_loss = 4.350\n",
      "Epoch   3 Batch   42/46   train_loss = 4.072\n",
      "Epoch   4 Batch    6/46   train_loss = 4.205\n",
      "Epoch   4 Batch   16/46   train_loss = 3.961\n",
      "Epoch   4 Batch   26/46   train_loss = 3.991\n",
      "Epoch   4 Batch   36/46   train_loss = 3.849\n",
      "Epoch   5 Batch    0/46   train_loss = 3.783\n",
      "Epoch   5 Batch   10/46   train_loss = 3.917\n",
      "Epoch   5 Batch   20/46   train_loss = 3.775\n",
      "Epoch   5 Batch   30/46   train_loss = 3.703\n",
      "Epoch   5 Batch   40/46   train_loss = 3.660\n",
      "Epoch   6 Batch    4/46   train_loss = 3.711\n",
      "Epoch   6 Batch   14/46   train_loss = 3.617\n",
      "Epoch   6 Batch   24/46   train_loss = 3.474\n",
      "Epoch   6 Batch   34/46   train_loss = 3.343\n",
      "Epoch   6 Batch   44/46   train_loss = 3.473\n",
      "Epoch   7 Batch    8/46   train_loss = 3.449\n",
      "Epoch   7 Batch   18/46   train_loss = 3.336\n",
      "Epoch   7 Batch   28/46   train_loss = 3.297\n",
      "Epoch   7 Batch   38/46   train_loss = 3.282\n",
      "Epoch   8 Batch    2/46   train_loss = 3.186\n",
      "Epoch   8 Batch   12/46   train_loss = 3.234\n",
      "Epoch   8 Batch   22/46   train_loss = 3.209\n",
      "Epoch   8 Batch   32/46   train_loss = 3.175\n",
      "Epoch   8 Batch   42/46   train_loss = 3.076\n",
      "Epoch   9 Batch    6/46   train_loss = 3.189\n",
      "Epoch   9 Batch   16/46   train_loss = 3.006\n",
      "Epoch   9 Batch   26/46   train_loss = 3.063\n",
      "Epoch   9 Batch   36/46   train_loss = 2.939\n",
      "Epoch  10 Batch    0/46   train_loss = 2.947\n",
      "Epoch  10 Batch   10/46   train_loss = 3.034\n",
      "Epoch  10 Batch   20/46   train_loss = 3.007\n",
      "Epoch  10 Batch   30/46   train_loss = 2.934\n",
      "Epoch  10 Batch   40/46   train_loss = 2.844\n",
      "Epoch  11 Batch    4/46   train_loss = 2.847\n",
      "Epoch  11 Batch   14/46   train_loss = 2.868\n",
      "Epoch  11 Batch   24/46   train_loss = 2.725\n",
      "Epoch  11 Batch   34/46   train_loss = 2.677\n",
      "Epoch  11 Batch   44/46   train_loss = 2.741\n",
      "Epoch  12 Batch    8/46   train_loss = 2.791\n",
      "Epoch  12 Batch   18/46   train_loss = 2.730\n",
      "Epoch  12 Batch   28/46   train_loss = 2.756\n",
      "Epoch  12 Batch   38/46   train_loss = 2.678\n",
      "Epoch  13 Batch    2/46   train_loss = 2.635\n",
      "Epoch  13 Batch   12/46   train_loss = 2.653\n",
      "Epoch  13 Batch   22/46   train_loss = 2.619\n",
      "Epoch  13 Batch   32/46   train_loss = 2.557\n",
      "Epoch  13 Batch   42/46   train_loss = 2.549\n",
      "Epoch  14 Batch    6/46   train_loss = 2.605\n",
      "Epoch  14 Batch   16/46   train_loss = 2.500\n",
      "Epoch  14 Batch   26/46   train_loss = 2.507\n",
      "Epoch  14 Batch   36/46   train_loss = 2.421\n",
      "Epoch  15 Batch    0/46   train_loss = 2.451\n",
      "Epoch  15 Batch   10/46   train_loss = 2.521\n",
      "Epoch  15 Batch   20/46   train_loss = 2.510\n",
      "Epoch  15 Batch   30/46   train_loss = 2.401\n",
      "Epoch  15 Batch   40/46   train_loss = 2.311\n",
      "Epoch  16 Batch    4/46   train_loss = 2.347\n",
      "Epoch  16 Batch   14/46   train_loss = 2.376\n",
      "Epoch  16 Batch   24/46   train_loss = 2.221\n",
      "Epoch  16 Batch   34/46   train_loss = 2.214\n",
      "Epoch  16 Batch   44/46   train_loss = 2.248\n",
      "Epoch  17 Batch    8/46   train_loss = 2.357\n",
      "Epoch  17 Batch   18/46   train_loss = 2.308\n",
      "Epoch  17 Batch   28/46   train_loss = 2.367\n",
      "Epoch  17 Batch   38/46   train_loss = 2.248\n",
      "Epoch  18 Batch    2/46   train_loss = 2.173\n",
      "Epoch  18 Batch   12/46   train_loss = 2.250\n",
      "Epoch  18 Batch   22/46   train_loss = 2.165\n",
      "Epoch  18 Batch   32/46   train_loss = 2.114\n",
      "Epoch  18 Batch   42/46   train_loss = 2.176\n",
      "Epoch  19 Batch    6/46   train_loss = 2.190\n",
      "Epoch  19 Batch   16/46   train_loss = 2.128\n",
      "Epoch  19 Batch   26/46   train_loss = 2.093\n",
      "Epoch  19 Batch   36/46   train_loss = 2.023\n",
      "Epoch  20 Batch    0/46   train_loss = 2.098\n",
      "Epoch  20 Batch   10/46   train_loss = 2.129\n",
      "Epoch  20 Batch   20/46   train_loss = 2.146\n",
      "Epoch  20 Batch   30/46   train_loss = 2.038\n",
      "Epoch  20 Batch   40/46   train_loss = 1.958\n",
      "Epoch  21 Batch    4/46   train_loss = 1.990\n",
      "Epoch  21 Batch   14/46   train_loss = 2.036\n",
      "Epoch  21 Batch   24/46   train_loss = 1.870\n",
      "Epoch  21 Batch   34/46   train_loss = 1.870\n",
      "Epoch  21 Batch   44/46   train_loss = 1.940\n",
      "Epoch  22 Batch    8/46   train_loss = 2.005\n",
      "Epoch  22 Batch   18/46   train_loss = 1.976\n",
      "Epoch  22 Batch   28/46   train_loss = 2.024\n",
      "Epoch  22 Batch   38/46   train_loss = 1.920\n",
      "Epoch  23 Batch    2/46   train_loss = 1.894\n",
      "Epoch  23 Batch   12/46   train_loss = 1.946\n",
      "Epoch  23 Batch   22/46   train_loss = 1.834\n",
      "Epoch  23 Batch   32/46   train_loss = 1.809\n",
      "Epoch  23 Batch   42/46   train_loss = 1.884\n",
      "Epoch  24 Batch    6/46   train_loss = 1.847\n",
      "Epoch  24 Batch   16/46   train_loss = 1.850\n",
      "Epoch  24 Batch   26/46   train_loss = 1.793\n",
      "Epoch  24 Batch   36/46   train_loss = 1.736\n",
      "Epoch  25 Batch    0/46   train_loss = 1.804\n",
      "Epoch  25 Batch   10/46   train_loss = 1.845\n",
      "Epoch  25 Batch   20/46   train_loss = 1.853\n",
      "Epoch  25 Batch   30/46   train_loss = 1.718\n",
      "Epoch  25 Batch   40/46   train_loss = 1.644\n",
      "Epoch  26 Batch    4/46   train_loss = 1.716\n",
      "Epoch  26 Batch   14/46   train_loss = 1.721\n",
      "Epoch  26 Batch   24/46   train_loss = 1.567\n",
      "Epoch  26 Batch   34/46   train_loss = 1.584\n",
      "Epoch  26 Batch   44/46   train_loss = 1.613\n",
      "Epoch  27 Batch    8/46   train_loss = 1.704\n",
      "Epoch  27 Batch   18/46   train_loss = 1.684\n",
      "Epoch  27 Batch   28/46   train_loss = 1.767\n",
      "Epoch  27 Batch   38/46   train_loss = 1.627\n",
      "Epoch  28 Batch    2/46   train_loss = 1.571\n",
      "Epoch  28 Batch   12/46   train_loss = 1.659\n",
      "Epoch  28 Batch   22/46   train_loss = 1.561\n",
      "Epoch  28 Batch   32/46   train_loss = 1.550\n",
      "Epoch  28 Batch   42/46   train_loss = 1.629\n",
      "Epoch  29 Batch    6/46   train_loss = 1.565\n",
      "Epoch  29 Batch   16/46   train_loss = 1.556\n",
      "Epoch  29 Batch   26/46   train_loss = 1.536\n",
      "Epoch  29 Batch   36/46   train_loss = 1.492\n",
      "Epoch  30 Batch    0/46   train_loss = 1.573\n",
      "Epoch  30 Batch   10/46   train_loss = 1.570\n",
      "Epoch  30 Batch   20/46   train_loss = 1.571\n",
      "Epoch  30 Batch   30/46   train_loss = 1.493\n",
      "Epoch  30 Batch   40/46   train_loss = 1.423\n",
      "Epoch  31 Batch    4/46   train_loss = 1.468\n",
      "Epoch  31 Batch   14/46   train_loss = 1.477\n",
      "Epoch  31 Batch   24/46   train_loss = 1.360\n",
      "Epoch  31 Batch   34/46   train_loss = 1.365\n",
      "Epoch  31 Batch   44/46   train_loss = 1.398\n",
      "Epoch  32 Batch    8/46   train_loss = 1.489\n",
      "Epoch  32 Batch   18/46   train_loss = 1.477\n",
      "Epoch  32 Batch   28/46   train_loss = 1.546\n",
      "Epoch  32 Batch   38/46   train_loss = 1.454\n",
      "Epoch  33 Batch    2/46   train_loss = 1.364\n",
      "Epoch  33 Batch   12/46   train_loss = 1.439\n",
      "Epoch  33 Batch   22/46   train_loss = 1.366\n",
      "Epoch  33 Batch   32/46   train_loss = 1.355\n",
      "Epoch  33 Batch   42/46   train_loss = 1.444\n",
      "Epoch  34 Batch    6/46   train_loss = 1.385\n",
      "Epoch  34 Batch   16/46   train_loss = 1.358\n",
      "Epoch  34 Batch   26/46   train_loss = 1.357\n",
      "Epoch  34 Batch   36/46   train_loss = 1.279\n",
      "Epoch  35 Batch    0/46   train_loss = 1.410\n",
      "Epoch  35 Batch   10/46   train_loss = 1.385\n",
      "Epoch  35 Batch   20/46   train_loss = 1.391\n",
      "Epoch  35 Batch   30/46   train_loss = 1.304\n",
      "Epoch  35 Batch   40/46   train_loss = 1.219\n",
      "Epoch  36 Batch    4/46   train_loss = 1.283\n",
      "Epoch  36 Batch   14/46   train_loss = 1.298\n",
      "Epoch  36 Batch   24/46   train_loss = 1.182\n",
      "Epoch  36 Batch   34/46   train_loss = 1.166\n",
      "Epoch  36 Batch   44/46   train_loss = 1.214\n",
      "Epoch  37 Batch    8/46   train_loss = 1.305\n",
      "Epoch  37 Batch   18/46   train_loss = 1.271\n",
      "Epoch  37 Batch   28/46   train_loss = 1.379\n",
      "Epoch  37 Batch   38/46   train_loss = 1.270\n",
      "Epoch  38 Batch    2/46   train_loss = 1.165\n",
      "Epoch  38 Batch   12/46   train_loss = 1.261\n",
      "Epoch  38 Batch   22/46   train_loss = 1.156\n",
      "Epoch  38 Batch   32/46   train_loss = 1.188\n",
      "Epoch  38 Batch   42/46   train_loss = 1.248\n",
      "Epoch  39 Batch    6/46   train_loss = 1.221\n",
      "Epoch  39 Batch   16/46   train_loss = 1.213\n",
      "Epoch  39 Batch   26/46   train_loss = 1.180\n",
      "Epoch  39 Batch   36/46   train_loss = 1.120\n",
      "Epoch  40 Batch    0/46   train_loss = 1.209\n",
      "Epoch  40 Batch   10/46   train_loss = 1.193\n",
      "Epoch  40 Batch   20/46   train_loss = 1.247\n",
      "Epoch  40 Batch   30/46   train_loss = 1.116\n",
      "Epoch  40 Batch   40/46   train_loss = 1.095\n",
      "Epoch  41 Batch    4/46   train_loss = 1.123\n",
      "Epoch  41 Batch   14/46   train_loss = 1.141\n",
      "Epoch  41 Batch   24/46   train_loss = 1.064\n",
      "Epoch  41 Batch   34/46   train_loss = 1.030\n",
      "Epoch  41 Batch   44/46   train_loss = 1.081\n",
      "Epoch  42 Batch    8/46   train_loss = 1.172\n",
      "Epoch  42 Batch   18/46   train_loss = 1.156\n",
      "Epoch  42 Batch   28/46   train_loss = 1.239\n",
      "Epoch  42 Batch   38/46   train_loss = 1.118\n",
      "Epoch  43 Batch    2/46   train_loss = 1.051\n",
      "Epoch  43 Batch   12/46   train_loss = 1.100\n",
      "Epoch  43 Batch   22/46   train_loss = 1.059\n",
      "Epoch  43 Batch   32/46   train_loss = 1.027\n",
      "Epoch  43 Batch   42/46   train_loss = 1.170\n",
      "Epoch  44 Batch    6/46   train_loss = 1.091\n",
      "Epoch  44 Batch   16/46   train_loss = 1.078\n",
      "Epoch  44 Batch   26/46   train_loss = 1.052\n",
      "Epoch  44 Batch   36/46   train_loss = 1.003\n",
      "Epoch  45 Batch    0/46   train_loss = 1.120\n",
      "Epoch  45 Batch   10/46   train_loss = 1.088\n",
      "Epoch  45 Batch   20/46   train_loss = 1.131\n",
      "Epoch  45 Batch   30/46   train_loss = 1.029\n",
      "Epoch  45 Batch   40/46   train_loss = 0.996\n",
      "Epoch  46 Batch    4/46   train_loss = 1.017\n",
      "Epoch  46 Batch   14/46   train_loss = 1.028\n",
      "Epoch  46 Batch   24/46   train_loss = 0.937\n",
      "Epoch  46 Batch   34/46   train_loss = 0.940\n",
      "Epoch  46 Batch   44/46   train_loss = 0.974\n",
      "Epoch  47 Batch    8/46   train_loss = 1.072\n",
      "Epoch  47 Batch   18/46   train_loss = 1.038\n",
      "Epoch  47 Batch   28/46   train_loss = 1.136\n",
      "Epoch  47 Batch   38/46   train_loss = 0.996\n",
      "Epoch  48 Batch    2/46   train_loss = 0.940\n",
      "Epoch  48 Batch   12/46   train_loss = 1.012\n",
      "Epoch  48 Batch   22/46   train_loss = 0.947\n",
      "Epoch  48 Batch   32/46   train_loss = 0.927\n",
      "Epoch  48 Batch   42/46   train_loss = 1.061\n",
      "Epoch  49 Batch    6/46   train_loss = 0.968\n",
      "Epoch  49 Batch   16/46   train_loss = 0.966\n",
      "Epoch  49 Batch   26/46   train_loss = 0.988\n",
      "Epoch  49 Batch   36/46   train_loss = 0.910\n",
      "Epoch  50 Batch    0/46   train_loss = 1.008\n",
      "Epoch  50 Batch   10/46   train_loss = 0.982\n",
      "Epoch  50 Batch   20/46   train_loss = 1.045\n",
      "Epoch  50 Batch   30/46   train_loss = 0.935\n",
      "Epoch  50 Batch   40/46   train_loss = 0.922\n",
      "Epoch  51 Batch    4/46   train_loss = 0.963\n",
      "Epoch  51 Batch   14/46   train_loss = 0.941\n",
      "Epoch  51 Batch   24/46   train_loss = 0.879\n",
      "Epoch  51 Batch   34/46   train_loss = 0.865\n",
      "Epoch  51 Batch   44/46   train_loss = 0.907\n",
      "Epoch  52 Batch    8/46   train_loss = 0.973\n",
      "Epoch  52 Batch   18/46   train_loss = 0.935\n",
      "Epoch  52 Batch   28/46   train_loss = 1.059\n",
      "Epoch  52 Batch   38/46   train_loss = 0.938\n",
      "Epoch  53 Batch    2/46   train_loss = 0.866\n",
      "Epoch  53 Batch   12/46   train_loss = 0.957\n",
      "Epoch  53 Batch   22/46   train_loss = 0.891\n",
      "Epoch  53 Batch   32/46   train_loss = 0.874\n",
      "Epoch  53 Batch   42/46   train_loss = 0.949\n",
      "Epoch  54 Batch    6/46   train_loss = 0.892\n",
      "Epoch  54 Batch   16/46   train_loss = 0.881\n",
      "Epoch  54 Batch   26/46   train_loss = 0.885\n",
      "Epoch  54 Batch   36/46   train_loss = 0.864\n",
      "Epoch  55 Batch    0/46   train_loss = 0.939\n",
      "Epoch  55 Batch   10/46   train_loss = 0.920\n",
      "Epoch  55 Batch   20/46   train_loss = 0.966\n",
      "Epoch  55 Batch   30/46   train_loss = 0.872\n",
      "Epoch  55 Batch   40/46   train_loss = 0.865\n",
      "Epoch  56 Batch    4/46   train_loss = 0.889\n",
      "Epoch  56 Batch   14/46   train_loss = 0.872\n",
      "Epoch  56 Batch   24/46   train_loss = 0.805\n",
      "Epoch  56 Batch   34/46   train_loss = 0.819\n",
      "Epoch  56 Batch   44/46   train_loss = 0.856\n",
      "Epoch  57 Batch    8/46   train_loss = 0.898\n",
      "Epoch  57 Batch   18/46   train_loss = 0.859\n",
      "Epoch  57 Batch   28/46   train_loss = 0.967\n",
      "Epoch  57 Batch   38/46   train_loss = 0.874\n",
      "Epoch  58 Batch    2/46   train_loss = 0.812\n",
      "Epoch  58 Batch   12/46   train_loss = 0.852\n",
      "Epoch  58 Batch   22/46   train_loss = 0.819\n",
      "Epoch  58 Batch   32/46   train_loss = 0.806\n",
      "Epoch  58 Batch   42/46   train_loss = 0.905\n",
      "Epoch  59 Batch    6/46   train_loss = 0.823\n",
      "Epoch  59 Batch   16/46   train_loss = 0.845\n",
      "Epoch  59 Batch   26/46   train_loss = 0.840\n",
      "Epoch  59 Batch   36/46   train_loss = 0.796\n",
      "Epoch  60 Batch    0/46   train_loss = 0.885\n",
      "Epoch  60 Batch   10/46   train_loss = 0.858\n",
      "Epoch  60 Batch   20/46   train_loss = 0.889\n",
      "Epoch  60 Batch   30/46   train_loss = 0.830\n",
      "Epoch  60 Batch   40/46   train_loss = 0.791\n",
      "Epoch  61 Batch    4/46   train_loss = 0.836\n",
      "Epoch  61 Batch   14/46   train_loss = 0.827\n",
      "Epoch  61 Batch   24/46   train_loss = 0.739\n",
      "Epoch  61 Batch   34/46   train_loss = 0.747\n",
      "Epoch  61 Batch   44/46   train_loss = 0.787\n",
      "Epoch  62 Batch    8/46   train_loss = 0.844\n",
      "Epoch  62 Batch   18/46   train_loss = 0.814\n",
      "Epoch  62 Batch   28/46   train_loss = 0.905\n",
      "Epoch  62 Batch   38/46   train_loss = 0.802\n",
      "Epoch  63 Batch    2/46   train_loss = 0.765\n",
      "Epoch  63 Batch   12/46   train_loss = 0.801\n",
      "Epoch  63 Batch   22/46   train_loss = 0.774\n",
      "Epoch  63 Batch   32/46   train_loss = 0.762\n",
      "Epoch  63 Batch   42/46   train_loss = 0.835\n",
      "Epoch  64 Batch    6/46   train_loss = 0.767\n",
      "Epoch  64 Batch   16/46   train_loss = 0.786\n",
      "Epoch  64 Batch   26/46   train_loss = 0.808\n",
      "Epoch  64 Batch   36/46   train_loss = 0.730\n",
      "Epoch  65 Batch    0/46   train_loss = 0.838\n",
      "Epoch  65 Batch   10/46   train_loss = 0.784\n",
      "Epoch  65 Batch   20/46   train_loss = 0.853\n",
      "Epoch  65 Batch   30/46   train_loss = 0.788\n",
      "Epoch  65 Batch   40/46   train_loss = 0.715\n",
      "Epoch  66 Batch    4/46   train_loss = 0.823\n",
      "Epoch  66 Batch   14/46   train_loss = 0.756\n",
      "Epoch  66 Batch   24/46   train_loss = 0.706\n",
      "Epoch  66 Batch   34/46   train_loss = 0.700\n",
      "Epoch  66 Batch   44/46   train_loss = 0.716\n",
      "Epoch  67 Batch    8/46   train_loss = 0.805\n",
      "Epoch  67 Batch   18/46   train_loss = 0.801\n",
      "Epoch  67 Batch   28/46   train_loss = 0.878\n",
      "Epoch  67 Batch   38/46   train_loss = 0.794\n",
      "Epoch  68 Batch    2/46   train_loss = 0.714\n",
      "Epoch  68 Batch   12/46   train_loss = 0.784\n",
      "Epoch  68 Batch   22/46   train_loss = 0.736\n",
      "Epoch  68 Batch   32/46   train_loss = 0.721\n",
      "Epoch  68 Batch   42/46   train_loss = 0.807\n",
      "Epoch  69 Batch    6/46   train_loss = 0.750\n",
      "Epoch  69 Batch   16/46   train_loss = 0.771\n",
      "Epoch  69 Batch   26/46   train_loss = 0.767\n",
      "Epoch  69 Batch   36/46   train_loss = 0.727\n",
      "Epoch  70 Batch    0/46   train_loss = 0.817\n",
      "Epoch  70 Batch   10/46   train_loss = 0.783\n",
      "Epoch  70 Batch   20/46   train_loss = 0.818\n",
      "Epoch  70 Batch   30/46   train_loss = 0.775\n",
      "Epoch  70 Batch   40/46   train_loss = 0.708\n",
      "Epoch  71 Batch    4/46   train_loss = 0.759\n",
      "Epoch  71 Batch   14/46   train_loss = 0.768\n",
      "Epoch  71 Batch   24/46   train_loss = 0.675\n",
      "Epoch  71 Batch   34/46   train_loss = 0.672\n",
      "Epoch  71 Batch   44/46   train_loss = 0.713\n",
      "Epoch  72 Batch    8/46   train_loss = 0.791\n",
      "Epoch  72 Batch   18/46   train_loss = 0.743\n",
      "Epoch  72 Batch   28/46   train_loss = 0.828\n",
      "Epoch  72 Batch   38/46   train_loss = 0.756\n",
      "Epoch  73 Batch    2/46   train_loss = 0.676\n",
      "Epoch  73 Batch   12/46   train_loss = 0.773\n",
      "Epoch  73 Batch   22/46   train_loss = 0.712\n",
      "Epoch  73 Batch   32/46   train_loss = 0.699\n",
      "Epoch  73 Batch   42/46   train_loss = 0.756\n",
      "Epoch  74 Batch    6/46   train_loss = 0.721\n",
      "Epoch  74 Batch   16/46   train_loss = 0.741\n",
      "Epoch  74 Batch   26/46   train_loss = 0.687\n",
      "Epoch  74 Batch   36/46   train_loss = 0.677\n",
      "Epoch  75 Batch    0/46   train_loss = 0.793\n",
      "Epoch  75 Batch   10/46   train_loss = 0.729\n",
      "Epoch  75 Batch   20/46   train_loss = 0.764\n",
      "Epoch  75 Batch   30/46   train_loss = 0.692\n",
      "Epoch  75 Batch   40/46   train_loss = 0.618\n",
      "Epoch  76 Batch    4/46   train_loss = 0.708\n",
      "Epoch  76 Batch   14/46   train_loss = 0.670\n",
      "Epoch  76 Batch   24/46   train_loss = 0.626\n",
      "Epoch  76 Batch   34/46   train_loss = 0.625\n",
      "Epoch  76 Batch   44/46   train_loss = 0.660\n",
      "Epoch  77 Batch    8/46   train_loss = 0.726\n",
      "Epoch  77 Batch   18/46   train_loss = 0.698\n",
      "Epoch  77 Batch   28/46   train_loss = 0.781\n",
      "Epoch  77 Batch   38/46   train_loss = 0.696\n",
      "Epoch  78 Batch    2/46   train_loss = 0.604\n",
      "Epoch  78 Batch   12/46   train_loss = 0.683\n",
      "Epoch  78 Batch   22/46   train_loss = 0.651\n",
      "Epoch  78 Batch   32/46   train_loss = 0.636\n",
      "Epoch  78 Batch   42/46   train_loss = 0.696\n",
      "Epoch  79 Batch    6/46   train_loss = 0.652\n",
      "Epoch  79 Batch   16/46   train_loss = 0.668\n",
      "Epoch  79 Batch   26/46   train_loss = 0.648\n",
      "Epoch  79 Batch   36/46   train_loss = 0.603\n",
      "Epoch  80 Batch    0/46   train_loss = 0.705\n",
      "Epoch  80 Batch   10/46   train_loss = 0.697\n",
      "Epoch  80 Batch   20/46   train_loss = 0.744\n",
      "Epoch  80 Batch   30/46   train_loss = 0.633\n",
      "Epoch  80 Batch   40/46   train_loss = 0.594\n",
      "Epoch  81 Batch    4/46   train_loss = 0.668\n",
      "Epoch  81 Batch   14/46   train_loss = 0.645\n",
      "Epoch  81 Batch   24/46   train_loss = 0.577\n",
      "Epoch  81 Batch   34/46   train_loss = 0.575\n",
      "Epoch  81 Batch   44/46   train_loss = 0.624\n",
      "Epoch  82 Batch    8/46   train_loss = 0.681\n",
      "Epoch  82 Batch   18/46   train_loss = 0.656\n",
      "Epoch  82 Batch   28/46   train_loss = 0.742\n",
      "Epoch  82 Batch   38/46   train_loss = 0.648\n",
      "Epoch  83 Batch    2/46   train_loss = 0.557\n",
      "Epoch  83 Batch   12/46   train_loss = 0.665\n",
      "Epoch  83 Batch   22/46   train_loss = 0.619\n",
      "Epoch  83 Batch   32/46   train_loss = 0.606\n",
      "Epoch  83 Batch   42/46   train_loss = 0.666\n",
      "Epoch  84 Batch    6/46   train_loss = 0.639\n",
      "Epoch  84 Batch   16/46   train_loss = 0.643\n",
      "Epoch  84 Batch   26/46   train_loss = 0.649\n",
      "Epoch  84 Batch   36/46   train_loss = 0.584\n",
      "Epoch  85 Batch    0/46   train_loss = 0.706\n",
      "Epoch  85 Batch   10/46   train_loss = 0.673\n",
      "Epoch  85 Batch   20/46   train_loss = 0.714\n",
      "Epoch  85 Batch   30/46   train_loss = 0.627\n",
      "Epoch  85 Batch   40/46   train_loss = 0.596\n",
      "Epoch  86 Batch    4/46   train_loss = 0.682\n",
      "Epoch  86 Batch   14/46   train_loss = 0.622\n",
      "Epoch  86 Batch   24/46   train_loss = 0.560\n",
      "Epoch  86 Batch   34/46   train_loss = 0.584\n",
      "Epoch  86 Batch   44/46   train_loss = 0.640\n",
      "Epoch  87 Batch    8/46   train_loss = 0.716\n",
      "Epoch  87 Batch   18/46   train_loss = 0.654\n",
      "Epoch  87 Batch   28/46   train_loss = 0.749\n",
      "Epoch  87 Batch   38/46   train_loss = 0.700\n",
      "Epoch  88 Batch    2/46   train_loss = 0.648\n",
      "Epoch  88 Batch   12/46   train_loss = 0.674\n",
      "Epoch  88 Batch   22/46   train_loss = 0.643\n",
      "Epoch  88 Batch   32/46   train_loss = 0.634\n",
      "Epoch  88 Batch   42/46   train_loss = 0.698\n",
      "Epoch  89 Batch    6/46   train_loss = 0.648\n",
      "Epoch  89 Batch   16/46   train_loss = 0.660\n",
      "Epoch  89 Batch   26/46   train_loss = 0.661\n",
      "Epoch  89 Batch   36/46   train_loss = 0.605\n",
      "Epoch  90 Batch    0/46   train_loss = 0.712\n",
      "Epoch  90 Batch   10/46   train_loss = 0.669\n",
      "Epoch  90 Batch   20/46   train_loss = 0.714\n",
      "Epoch  90 Batch   30/46   train_loss = 0.655\n",
      "Epoch  90 Batch   40/46   train_loss = 0.616\n",
      "Epoch  91 Batch    4/46   train_loss = 0.683\n",
      "Epoch  91 Batch   14/46   train_loss = 0.641\n",
      "Epoch  91 Batch   24/46   train_loss = 0.571\n",
      "Epoch  91 Batch   34/46   train_loss = 0.575\n",
      "Epoch  91 Batch   44/46   train_loss = 0.601\n",
      "Epoch  92 Batch    8/46   train_loss = 0.685\n",
      "Epoch  92 Batch   18/46   train_loss = 0.648\n",
      "Epoch  92 Batch   28/46   train_loss = 0.705\n",
      "Epoch  92 Batch   38/46   train_loss = 0.689\n",
      "Epoch  93 Batch    2/46   train_loss = 0.583\n",
      "Epoch  93 Batch   12/46   train_loss = 0.683\n",
      "Epoch  93 Batch   22/46   train_loss = 0.615\n",
      "Epoch  93 Batch   32/46   train_loss = 0.602\n",
      "Epoch  93 Batch   42/46   train_loss = 0.676\n",
      "Epoch  94 Batch    6/46   train_loss = 0.613\n",
      "Epoch  94 Batch   16/46   train_loss = 0.632\n",
      "Epoch  94 Batch   26/46   train_loss = 0.654\n",
      "Epoch  94 Batch   36/46   train_loss = 0.606\n",
      "Epoch  95 Batch    0/46   train_loss = 0.686\n",
      "Epoch  95 Batch   10/46   train_loss = 0.677\n",
      "Epoch  95 Batch   20/46   train_loss = 0.687\n",
      "Epoch  95 Batch   30/46   train_loss = 0.630\n",
      "Epoch  95 Batch   40/46   train_loss = 0.572\n",
      "Epoch  96 Batch    4/46   train_loss = 0.650\n",
      "Epoch  96 Batch   14/46   train_loss = 0.615\n",
      "Epoch  96 Batch   24/46   train_loss = 0.580\n",
      "Epoch  96 Batch   34/46   train_loss = 0.593\n",
      "Epoch  96 Batch   44/46   train_loss = 0.594\n",
      "Epoch  97 Batch    8/46   train_loss = 0.675\n",
      "Epoch  97 Batch   18/46   train_loss = 0.626\n",
      "Epoch  97 Batch   28/46   train_loss = 0.682\n",
      "Epoch  97 Batch   38/46   train_loss = 0.651\n",
      "Epoch  98 Batch    2/46   train_loss = 0.559\n",
      "Epoch  98 Batch   12/46   train_loss = 0.627\n",
      "Epoch  98 Batch   22/46   train_loss = 0.582\n",
      "Epoch  98 Batch   32/46   train_loss = 0.571\n",
      "Epoch  98 Batch   42/46   train_loss = 0.632\n",
      "Epoch  99 Batch    6/46   train_loss = 0.595\n",
      "Epoch  99 Batch   16/46   train_loss = 0.617\n",
      "Epoch  99 Batch   26/46   train_loss = 0.612\n",
      "Epoch  99 Batch   36/46   train_loss = 0.581\n",
      "Model Trained and Saved\n"
     ]
    }
   ],
   "source": [
    "\"\"\"\n",
    "DON'T MODIFY ANYTHING IN THIS CELL\n",
    "\"\"\"\n",
    "batches = get_batches(int_text, batch_size, seq_length)\n",
    "\n",
    "with tf.Session(graph=train_graph) as sess:\n",
    "    sess.run(tf.global_variables_initializer())\n",
    "\n",
    "    for epoch_i in range(num_epochs):\n",
    "        state = sess.run(initial_state, {input_text: batches[0][0]})\n",
    "\n",
    "        for batch_i, (x, y) in enumerate(batches):\n",
    "            feed = {\n",
    "                input_text: x,\n",
    "                targets: y,\n",
    "                initial_state: state,\n",
    "                lr: learning_rate}\n",
    "            train_loss, state, _ = sess.run([cost, final_state, train_op], feed)\n",
    "\n",
    "            # Show every <show_every_n_batches> batches\n",
    "            if (epoch_i * len(batches) + batch_i) % show_every_n_batches == 0:\n",
    "                print('Epoch {:>3} Batch {:>4}/{}   train_loss = {:.3f}'.format(\n",
    "                    epoch_i,\n",
    "                    batch_i,\n",
    "                    len(batches),\n",
    "                    train_loss))\n",
    "\n",
    "    # Save Model\n",
    "    saver = tf.train.Saver()\n",
    "    saver.save(sess, save_dir)\n",
    "    print('Model Trained and Saved')"
   ]
  },
  {
   "cell_type": "markdown",
   "metadata": {
    "deletable": true,
    "editable": true
   },
   "source": [
    "## Save Parameters\n",
    "Save `seq_length` and `save_dir` for generating a new TV script."
   ]
  },
  {
   "cell_type": "code",
   "execution_count": 22,
   "metadata": {
    "collapsed": false,
    "deletable": true,
    "editable": true
   },
   "outputs": [],
   "source": [
    "\"\"\"\n",
    "DON'T MODIFY ANYTHING IN THIS CELL\n",
    "\"\"\"\n",
    "# Save parameters for checkpoint\n",
    "helper.save_params((seq_length, save_dir))"
   ]
  },
  {
   "cell_type": "markdown",
   "metadata": {
    "deletable": true,
    "editable": true
   },
   "source": [
    "# Checkpoint"
   ]
  },
  {
   "cell_type": "code",
   "execution_count": 23,
   "metadata": {
    "collapsed": false,
    "deletable": true,
    "editable": true
   },
   "outputs": [],
   "source": [
    "\"\"\"\n",
    "DON'T MODIFY ANYTHING IN THIS CELL\n",
    "\"\"\"\n",
    "import tensorflow as tf\n",
    "import numpy as np\n",
    "import helper\n",
    "import problem_unittests as tests\n",
    "\n",
    "_, vocab_to_int, int_to_vocab, token_dict = helper.load_preprocess()\n",
    "seq_length, load_dir = helper.load_params()"
   ]
  },
  {
   "cell_type": "markdown",
   "metadata": {
    "deletable": true,
    "editable": true
   },
   "source": [
    "## Implement Generate Functions\n",
    "### Get Tensors\n",
    "Get tensors from `loaded_graph` using the function [`get_tensor_by_name()`](https://www.tensorflow.org/api_docs/python/tf/Graph#get_tensor_by_name).  Get the tensors using the following names:\n",
    "- \"input:0\"\n",
    "- \"initial_state:0\"\n",
    "- \"final_state:0\"\n",
    "- \"probs:0\"\n",
    "\n",
    "Return the tensors in the following tuple `(InputTensor, InitialStateTensor, FinalStateTensor, ProbsTensor)` "
   ]
  },
  {
   "cell_type": "code",
   "execution_count": 24,
   "metadata": {
    "collapsed": false,
    "deletable": true,
    "editable": true
   },
   "outputs": [
    {
     "name": "stdout",
     "output_type": "stream",
     "text": [
      "Tests Passed\n"
     ]
    }
   ],
   "source": [
    "def get_tensors(loaded_graph):\n",
    "    \"\"\"\n",
    "    Get input, initial state, final state, and probabilities tensor from <loaded_graph>\n",
    "    :param loaded_graph: TensorFlow graph loaded from file\n",
    "    :return: Tuple (InputTensor, InitialStateTensor, FinalStateTensor, ProbsTensor)\n",
    "    \"\"\"\n",
    "    InputTensor = loaded_graph.get_tensor_by_name('input:0') \n",
    "    InitialStateTensor = loaded_graph.get_tensor_by_name('initial_state:0')\n",
    "    FinalStateTensor = loaded_graph.get_tensor_by_name('final_state:0')\n",
    "    ProbsTensor = loaded_graph.get_tensor_by_name('probs:0')\n",
    "    \n",
    "    return InputTensor, InitialStateTensor, FinalStateTensor, ProbsTensor\n",
    "\n",
    "\n",
    "\"\"\"\n",
    "DON'T MODIFY ANYTHING IN THIS CELL THAT IS BELOW THIS LINE\n",
    "\"\"\"\n",
    "tests.test_get_tensors(get_tensors)"
   ]
  },
  {
   "cell_type": "markdown",
   "metadata": {
    "deletable": true,
    "editable": true
   },
   "source": [
    "### Choose Word\n",
    "Implement the `pick_word()` function to select the next word using `probabilities`."
   ]
  },
  {
   "cell_type": "code",
   "execution_count": 5,
   "metadata": {
    "collapsed": false,
    "deletable": true,
    "editable": true
   },
   "outputs": [
    {
     "ename": "NameError",
     "evalue": "name 'tests' is not defined",
     "output_type": "error",
     "traceback": [
      "\u001b[0;31m---------------------------------------------------------------------------\u001b[0m",
      "\u001b[0;31mNameError\u001b[0m                                 Traceback (most recent call last)",
      "\u001b[0;32m<ipython-input-5-880743d90094>\u001b[0m in \u001b[0;36m<module>\u001b[0;34m()\u001b[0m\n\u001b[1;32m     13\u001b[0m \u001b[0mDON\u001b[0m\u001b[0;31m'\u001b[0m\u001b[0mT\u001b[0m \u001b[0mMODIFY\u001b[0m \u001b[0mANYTHING\u001b[0m \u001b[0mIN\u001b[0m \u001b[0mTHIS\u001b[0m \u001b[0mCELL\u001b[0m \u001b[0mTHAT\u001b[0m \u001b[0mIS\u001b[0m \u001b[0mBELOW\u001b[0m \u001b[0mTHIS\u001b[0m \u001b[0mLINE\u001b[0m\u001b[0;34m\u001b[0m\u001b[0m\n\u001b[1;32m     14\u001b[0m \"\"\"\n\u001b[0;32m---> 15\u001b[0;31m \u001b[0mtests\u001b[0m\u001b[0;34m.\u001b[0m\u001b[0mtest_pick_word\u001b[0m\u001b[0;34m(\u001b[0m\u001b[0mpick_word\u001b[0m\u001b[0;34m)\u001b[0m\u001b[0;34m\u001b[0m\u001b[0m\n\u001b[0m",
      "\u001b[0;31mNameError\u001b[0m: name 'tests' is not defined"
     ]
    }
   ],
   "source": [
    "def pick_word(probabilities, int_to_vocab):\n",
    "    \"\"\"\n",
    "    Pick the next word in the generated text\n",
    "    :param probabilities: Probabilites of the next word\n",
    "    :param int_to_vocab: Dictionary of word ids as the keys and words as the values\n",
    "    :return: String of the predicted word\n",
    "    \"\"\"\n",
    "    \n",
    "    return np.random.choice(int_to_vocab, probabilities)\n",
    "\n",
    "\n",
    "\"\"\"\n",
    "DON'T MODIFY ANYTHING IN THIS CELL THAT IS BELOW THIS LINE\n",
    "\"\"\"\n",
    "tests.test_pick_word(pick_word)"
   ]
  },
  {
   "cell_type": "markdown",
   "metadata": {
    "deletable": true,
    "editable": true
   },
   "source": [
    "## Generate TV Script\n",
    "This will generate the TV script for you.  Set `gen_length` to the length of TV script you want to generate."
   ]
  },
  {
   "cell_type": "code",
   "execution_count": null,
   "metadata": {
    "collapsed": false,
    "deletable": true,
    "editable": true
   },
   "outputs": [],
   "source": [
    "gen_length = 200\n",
    "# homer_simpson, moe_szyslak, or Barney_Gumble\n",
    "prime_word = 'moe_szyslak'\n",
    "\n",
    "\"\"\"\n",
    "DON'T MODIFY ANYTHING IN THIS CELL THAT IS BELOW THIS LINE\n",
    "\"\"\"\n",
    "loaded_graph = tf.Graph()\n",
    "with tf.Session(graph=loaded_graph) as sess:\n",
    "    # Load saved model\n",
    "    loader = tf.train.import_meta_graph(load_dir + '.meta')\n",
    "    loader.restore(sess, load_dir)\n",
    "\n",
    "    # Get Tensors from loaded model\n",
    "    input_text, initial_state, final_state, probs = get_tensors(loaded_graph)\n",
    "\n",
    "    # Sentences generation setup\n",
    "    gen_sentences = [prime_word + ':']\n",
    "    prev_state = sess.run(initial_state, {input_text: np.array([[1]])})\n",
    "\n",
    "    # Generate sentences\n",
    "    for n in range(gen_length):\n",
    "        # Dynamic Input\n",
    "        dyn_input = [[vocab_to_int[word] for word in gen_sentences[-seq_length:]]]\n",
    "        dyn_seq_length = len(dyn_input[0])\n",
    "\n",
    "        # Get Prediction\n",
    "        probabilities, prev_state = sess.run(\n",
    "            [probs, final_state],\n",
    "            {input_text: dyn_input, initial_state: prev_state})\n",
    "        \n",
    "        pred_word = pick_word(probabilities[dyn_seq_length-1], int_to_vocab)\n",
    "\n",
    "        gen_sentences.append(pred_word)\n",
    "    \n",
    "    # Remove tokens\n",
    "    tv_script = ' '.join(gen_sentences)\n",
    "    for key, token in token_dict.items():\n",
    "        ending = ' ' if key in ['\\n', '(', '\"'] else ''\n",
    "        tv_script = tv_script.replace(' ' + token.lower(), key)\n",
    "    tv_script = tv_script.replace('\\n ', '\\n')\n",
    "    tv_script = tv_script.replace('( ', '(')\n",
    "        \n",
    "    print(tv_script)"
   ]
  },
  {
   "cell_type": "markdown",
   "metadata": {
    "deletable": true,
    "editable": true
   },
   "source": [
    "# The TV Script is Nonsensical\n",
    "It's ok if the TV script doesn't make any sense.  We trained on less than a megabyte of text.  In order to get good results, you'll have to use a smaller vocabulary or get more data.  Luckly there's more data!  As we mentioned in the begging of this project, this is a subset of [another dataset](https://www.kaggle.com/wcukierski/the-simpsons-by-the-data).  We didn't have you train on all the data, because that would take too long.  However, you are free to train your neural network on all the data.  After you complete the project, of course.\n",
    "# Submitting This Project\n",
    "When submitting this project, make sure to run all the cells before saving the notebook. Save the notebook file as \"dlnd_tv_script_generation.ipynb\" and save it as a HTML file under \"File\" -> \"Download as\". Include the \"helper.py\" and \"problem_unittests.py\" files in your submission."
   ]
  }
 ],
 "metadata": {
  "kernelspec": {
   "display_name": "Python 3",
   "language": "python",
   "name": "python3"
  },
  "language_info": {
   "codemirror_mode": {
    "name": "ipython",
    "version": 3
   },
   "file_extension": ".py",
   "mimetype": "text/x-python",
   "name": "python",
   "nbconvert_exporter": "python",
   "pygments_lexer": "ipython3",
   "version": "3.5.2"
  }
 },
 "nbformat": 4,
 "nbformat_minor": 0
}
